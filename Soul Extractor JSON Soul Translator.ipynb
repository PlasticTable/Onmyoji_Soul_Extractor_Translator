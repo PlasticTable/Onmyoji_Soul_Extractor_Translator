{
 "cells": [
  {
   "cell_type": "code",
   "execution_count": null,
   "metadata": {},
   "outputs": [],
   "source": [
    "import tkinter as tk\n",
    "from tkinter import filedialog\n",
    "root = tk.Tk()\n",
    "root.withdraw()\n",
    "#root.call('wm', 'attributes', '.', '-topmost', True)\n",
    "filename = filedialog.askopenfilename()\n",
    "#%gui tk\n",
    "print(filename)\n",
    "\n",
    "import json\n",
    "import pandas as pd\n",
    "\n",
    "with open(filename) as raw_data:\n",
    "    data=json.load(raw_data)\n",
    "\n",
    "random_junk = data[0]\n",
    "data.remove(random_junk)\n",
    "json_data = pd.DataFrame(data)\n",
    "\n",
    "name_mapper = pd.read_csv(r'C:\\Users\\Diana\\Desktop\\GitHub\\Onmyoji Soul Extractor Translator\\Soul Name Mapper.csv')\n",
    "\n",
    "joined_data = pd.merge(left=json_data, right=name_mapper, how='left', left_on='御魂类型', right_on='EngName')\n",
    "joined_data['御魂类型'] = joined_data['CNName']\n",
    "joined_data = joined_data.drop(['CNName','EngName'], axis=1)\n",
    "\n",
    "final_list = joined_data.T.apply(lambda x: x.dropna().to_dict()).tolist()\n",
    "final_list.insert(0, random_junk)\n",
    "\n",
    "with open(filename, 'w') as raw_data:\n",
    "    json.dump(final_list,raw_data, indent=3)"
   ]
  },
  {
   "cell_type": "code",
   "execution_count": null,
   "metadata": {},
   "outputs": [],
   "source": []
  }
 ],
 "metadata": {
  "kernelspec": {
   "display_name": "Python 3",
   "language": "python",
   "name": "python3"
  },
  "language_info": {
   "codemirror_mode": {
    "name": "ipython",
    "version": 3
   },
   "file_extension": ".py",
   "mimetype": "text/x-python",
   "name": "python",
   "nbconvert_exporter": "python",
   "pygments_lexer": "ipython3",
   "version": "3.6.5"
  }
 },
 "nbformat": 4,
 "nbformat_minor": 2
}
